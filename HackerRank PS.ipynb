{
 "cells": [
  {
   "cell_type": "code",
   "execution_count": null,
   "id": "523f5257",
   "metadata": {},
   "outputs": [],
   "source": [
    "student_array = []\n",
    "\n",
    "for _ in range(int(input())):\n",
    "    student_array.append([input(), float(input())])\n",
    "\n",
    "marks = []\n",
    "for i in student_array:\n",
    "    if i[1] not in marks:\n",
    "        marks.append(i[1])\n",
    "\n",
    "marks.sort()\n",
    "marks\n",
    "\n",
    "student_array.sort(key=lambda x: x[1])\n",
    "second = marks[1]\n",
    "student_array.sort(key=lambda x: x[0])\n",
    "\n",
    "for i in student_array:\n",
    "    if float(i[1]) == float(second):\n",
    "        print(i[0])"
   ]
  },
  {
   "cell_type": "markdown",
   "id": "5b85a4ce",
   "metadata": {},
   "source": [
    "# Finding the percentage"
   ]
  },
  {
   "cell_type": "code",
   "execution_count": null,
   "id": "2c9f662e",
   "metadata": {},
   "outputs": [],
   "source": [
    "students_dict = {}\n",
    "\n",
    "for _ in range(int(input())):\n",
    "    student = input().split()\n",
    "    students_dict[student[0]] = student[1:]\n",
    "query_name = input()\n",
    "val = 0\n",
    "for i in students_dict[query_name]:\n",
    "        val += float(i)\n",
    "print(f\"{val/3:.2f}\")    "
   ]
  }
 ],
 "metadata": {
  "kernelspec": {
   "display_name": "Python 3 (ipykernel)",
   "language": "python",
   "name": "python3"
  },
  "language_info": {
   "codemirror_mode": {
    "name": "ipython",
    "version": 3
   },
   "file_extension": ".py",
   "mimetype": "text/x-python",
   "name": "python",
   "nbconvert_exporter": "python",
   "pygments_lexer": "ipython3",
   "version": "3.8.10"
  }
 },
 "nbformat": 4,
 "nbformat_minor": 5
}
